{
  "nbformat": 4,
  "nbformat_minor": 0,
  "metadata": {
    "colab": {
      "provenance": []
    },
    "kernelspec": {
      "name": "python3",
      "display_name": "Python 3"
    },
    "language_info": {
      "name": "python"
    }
  },
  "cells": [
    {
      "cell_type": "markdown",
      "source": [
        "# <a id=\"1\">Скачивание данных</a>"
      ],
      "metadata": {
        "id": "j7wO9GhDqjRT"
      }
    },
    {
      "cell_type": "code",
      "execution_count": null,
      "metadata": {
        "id": "p9yDr9tQosri"
      },
      "outputs": [],
      "source": [
        "import os\n",
        "import sys\n",
        "from tempfile import NamedTemporaryFile\n",
        "from urllib.request import urlopen\n",
        "from urllib.parse import unquote, urlparse\n",
        "from urllib.error import HTTPError\n",
        "from zipfile import ZipFile\n",
        "import tarfile\n",
        "import shutil\n",
        "\n",
        "CHUNK_SIZE = 40960\n",
        "DATA_SOURCE_MAPPING = 'chest-xray-pneumonia:https%3A%2F%2Fstorage.googleapis.com%2Fkaggle-data-sets%2F17810%2F23812%2Fbundle%2Farchive.zip%3FX-Goog-Algorithm%3DGOOG4-RSA-SHA256%26X-Goog-Credential%3Dgcp-kaggle-com%2540kaggle-161607.iam.gserviceaccount.com%252F20240528%252Fauto%252Fstorage%252Fgoog4_request%26X-Goog-Date%3D20240528T113859Z%26X-Goog-Expires%3D259200%26X-Goog-SignedHeaders%3Dhost%26X-Goog-Signature%3D4e03d923bb73a3fc5121e6feb952c1ceb0f410d8d848ff9e75871477215107ba4f2ccf68af8c008385fc5b54b8c01111691047653532c138c19eef67c143eb0d5ff25a00d0e444df0a13be971f86968de36ab88d4bb8de172fbe89aea5a48e68263fa0cd8b2608af8386b1b53a33f108ba439491dbd585e80e5c5d02356794ea42b24120fbc7a6cd8cd8d0d1ce72b3e2e255004899fa2ca4f1fc2105b6bb5c9b45ad48b02d0231066b481bb4dc049bc7f79f3f21e29573d1805b71add3baf00fadbf386933ecdbb036f350bcd7c545c5619fa17b6f7dfc48b7221e414a9ff07d13a63e83cba0b90ffae8aef886af5416837f550ff53cb798dfdbd54cbfa6af1b,labeled-chest-xray-images:https%3A%2F%2Fstorage.googleapis.com%2Fkaggle-data-sets%2F835414%2F1426603%2Fbundle%2Farchive.zip%3FX-Goog-Algorithm%3DGOOG4-RSA-SHA256%26X-Goog-Credential%3Dgcp-kaggle-com%2540kaggle-161607.iam.gserviceaccount.com%252F20240528%252Fauto%252Fstorage%252Fgoog4_request%26X-Goog-Date%3D20240528T113859Z%26X-Goog-Expires%3D259200%26X-Goog-SignedHeaders%3Dhost%26X-Goog-Signature%3D7a60effa3e413a7deb903f06129757ebb47a641bb521c1c7c0ce6a1ad2cad0ec5ba0e2df6817571c9325a03dc99222b4292d95f99f6220aa0282fe690020b48b4a85caa7bcb904e838808069363b620b6e7b3b520ed4f635530850d4026617ad6ac3158039b58961778c5a1f2d5d921478c32a6bf2973f80de001ee8bb1c6f68c6662d4167a51b3a07f99be88c8d628887bd187177590c27308f454e011bcf2edb8b7257f187c459f112134f9eb16d60b9c2c1ad89810d71b89f487b03f52363a27bdf10a808587e9599d8ccf5432f6dba3d85a78059861c06d2ce9bf3f63327d36c848c798526608e7d8e2caaebd1581447deef03b6a4c842c914bd0b625f45'\n",
        "\n",
        "KAGGLE_INPUT_PATH='/kaggle/input'\n",
        "KAGGLE_WORKING_PATH='/kaggle/working'\n",
        "KAGGLE_SYMLINK='kaggle'\n",
        "\n",
        "!umount /kaggle/input/ 2> /dev/null\n",
        "shutil.rmtree('/kaggle/input', ignore_errors=True)\n",
        "os.makedirs(KAGGLE_INPUT_PATH, 0o777, exist_ok=True)\n",
        "os.makedirs(KAGGLE_WORKING_PATH, 0o777, exist_ok=True)\n",
        "\n",
        "try:\n",
        "  os.symlink(KAGGLE_INPUT_PATH, os.path.join(\"..\", 'input'), target_is_directory=True)\n",
        "except FileExistsError:\n",
        "  pass\n",
        "try:\n",
        "  os.symlink(KAGGLE_WORKING_PATH, os.path.join(\"..\", 'working'), target_is_directory=True)\n",
        "except FileExistsError:\n",
        "  pass\n",
        "\n",
        "for data_source_mapping in DATA_SOURCE_MAPPING.split(','):\n",
        "    directory, download_url_encoded = data_source_mapping.split(':')\n",
        "    download_url = unquote(download_url_encoded)\n",
        "    filename = urlparse(download_url).path\n",
        "    destination_path = os.path.join(KAGGLE_INPUT_PATH, directory)\n",
        "    try:\n",
        "        with urlopen(download_url) as fileres, NamedTemporaryFile() as tfile:\n",
        "            total_length = fileres.headers['content-length']\n",
        "            print(f'Downloading {directory}, {total_length} bytes compressed')\n",
        "            dl = 0\n",
        "            data = fileres.read(CHUNK_SIZE)\n",
        "            while len(data) > 0:\n",
        "                dl += len(data)\n",
        "                tfile.write(data)\n",
        "                done = int(50 * dl / int(total_length))\n",
        "                sys.stdout.write(f\"\\r[{'=' * done}{' ' * (50-done)}] {dl} bytes downloaded\")\n",
        "                sys.stdout.flush()\n",
        "                data = fileres.read(CHUNK_SIZE)\n",
        "            if filename.endswith('.zip'):\n",
        "              with ZipFile(tfile) as zfile:\n",
        "                zfile.extractall(destination_path)\n",
        "            else:\n",
        "              with tarfile.open(tfile.name) as tarfile:\n",
        "                tarfile.extractall(destination_path)\n",
        "            print(f'\\nDownloaded and uncompressed: {directory}')\n",
        "    except HTTPError as e:\n",
        "        print(f'Failed to load (likely expired) {download_url} to path {destination_path}')\n",
        "        continue\n",
        "    except OSError as e:\n",
        "        print(f'Failed to load {download_url} to path {destination_path}')\n",
        "        continue\n",
        "\n",
        "print('Data source import complete.')\n"
      ]
    },
    {
      "cell_type": "markdown",
      "source": [
        "# <a id=\"1\">Импорт нужных модулей и библиотек</a>"
      ],
      "metadata": {
        "id": "NlG9DsURqqri"
      }
    },
    {
      "cell_type": "code",
      "source": [
        "import pandas as pd\n",
        "import matplotlib as mat\n",
        "import matplotlib.pyplot as plt\n",
        "import numpy as np\n",
        "import seaborn as sns\n",
        "import random\n",
        "import os\n",
        "import glob\n",
        "import cv2\n",
        "import tensorflow as tf\n",
        "\n",
        "from numpy.random import seed\n",
        "from sklearn.model_selection import train_test_split\n",
        "from sklearn.model_selection import train_test_split\n",
        "from sklearn import metrics\n",
        "from sklearn.metrics import accuracy_score\n",
        "import tensorflow as tf\n",
        "from tensorflow import keras\n",
        "from tensorflow.keras import layers\n",
        "from tensorflow.keras import callbacks\n",
        "from tensorflow.keras.models import Model\n",
        "from tensorflow.keras.preprocessing.image import ImageDataGenerator\n",
        "from tensorflow.random import set_seed\n"
      ],
      "metadata": {
        "id": "k0WWMgIdq275"
      },
      "execution_count": null,
      "outputs": []
    },
    {
      "cell_type": "markdown",
      "source": [
        "# <a id=\"1\">Инициализация генератора случайных чисел</a>"
      ],
      "metadata": {
        "id": "CJpXZNUgq3my"
      }
    },
    {
      "cell_type": "code",
      "source": [
        "random.seed(42)\n",
        "os.environ['PYTHONHASHSEED'] = str(42)\n",
        "set_seed(42)\n",
        "seed(42)\n",
        "os.environ['TF_DETERMINISTIC_OPS'] = '1'"
      ],
      "metadata": {
        "id": "Fveyt4r1q7_Y"
      },
      "execution_count": null,
      "outputs": []
    },
    {
      "cell_type": "code",
      "source": [
        "IMG_SIZE = 224\n",
        "BATCH = 32\n",
        "SEED = 42\n",
        "img_size = (224, 224)"
      ],
      "metadata": {
        "id": "MwSFCUJnrB_T"
      },
      "execution_count": null,
      "outputs": []
    },
    {
      "cell_type": "markdown",
      "source": [
        "# <a id=\"1\">Генерация датасетов</a>"
      ],
      "metadata": {
        "id": "NnQNXGr_rCrh"
      }
    },
    {
      "cell_type": "code",
      "source": [
        "def get_df(dir: str):\n",
        "    filepaths = []\n",
        "    labels = []\n",
        "\n",
        "    folds = os.listdir(dir)\n",
        "\n",
        "    for fold in folds:\n",
        "        foldpath = os.path.join(dir, fold)\n",
        "        filelist = os.listdir(foldpath)\n",
        "        for file in filelist:\n",
        "            fpath = os.path.join(foldpath, file)\n",
        "\n",
        "            filepaths.append(fpath)\n",
        "            labels.append(fold)"
      ],
      "metadata": {
        "id": "gtHrbd-BrF2X"
      },
      "execution_count": null,
      "outputs": []
    },
    {
      "cell_type": "code",
      "source": [
        "# Concatenate data paths with labels into one dataframe\n",
        "Fseries = pd.Series(filepaths, name= 'image')\n",
        "Lseries = pd.Series(labels, name='class')\n",
        "\n",
        "return pd.concat([Fseries, Lseries], axis= 1)"
      ],
      "metadata": {
        "id": "EQR-M6CMrQbc"
      },
      "execution_count": null,
      "outputs": []
    },
    {
      "cell_type": "code",
      "source": [
        "# Указание путей к директориям\n",
        "train_data_dir = 'input/labeled-chest-xray-images/chest_xray/train'\n",
        "test_data_dir = 'input/labeled-chest-xray-images/chest_xray/test'"
      ],
      "metadata": {
        "id": "TMC6b9jMrPwt"
      },
      "execution_count": null,
      "outputs": []
    },
    {
      "cell_type": "code",
      "source": [
        "train_df = get_df(train_data_dir)\n",
        "test_df = get_df(test_data_dir)"
      ],
      "metadata": {
        "id": "g9dRIwlprTfe"
      },
      "execution_count": null,
      "outputs": []
    },
    {
      "cell_type": "code",
      "source": [
        "print('Train Set')\n",
        "plt.figure(figsize=(12,12))\n",
        "\n",
        "for i in range(0, 12):\n",
        "    plt.subplot(3,4,i + 1)\n",
        "    img = cv2.imread(train_df['image'][i])\n",
        "    img = cv2.resize(img, img_size)\n",
        "    plt.imshow(img)\n",
        "    plt.title(train_df['class'][i])\n",
        "    plt.axis(\"off\")\n",
        "\n",
        "plt.tight_layout()\n",
        "plt.show()"
      ],
      "metadata": {
        "id": "Vz0EPbQBt8TF"
      },
      "execution_count": null,
      "outputs": []
    },
    {
      "cell_type": "code",
      "source": [
        "# Извлечение данных из тренировочного набора для создания валидационного (проверочного) набора\n",
        "train_df, val_df = train_test_split(train_df, test_size = 0.20, random_state = SEED, stratify = train_df['class'])"
      ],
      "metadata": {
        "id": "2WpQoIOPrVNk"
      },
      "execution_count": null,
      "outputs": []
    },
    {
      "cell_type": "code",
      "source": [
        "# Инициализация генераторов изображений с описанием процессов препроцессинга и аугментации\n",
        "train_datagen = ImageDataGenerator(rescale=1/255.,\n",
        "                                  rotation_range=0.1,\n",
        "                                  zoom_range = 0.1,\n",
        "                                  width_shift_range = 0.1,\n",
        "                                  height_shift_range = 0.1)\n",
        "\n",
        "val_datagen = ImageDataGenerator(rescale=1/255.)\n",
        "\n",
        "# Применяем генераторы к датасетам\n",
        "ds_train = train_datagen.flow_from_dataframe(train_df,\n",
        "                                             x_col = 'image',\n",
        "                                             y_col = 'class',\n",
        "                                             color_mode =\"rgb\",\n",
        "                                             target_size = img_size,\n",
        "                                             class_mode = \"binary\",\n",
        "                                             batch_size = BATCH,\n",
        "                                             shuffle = True,\n",
        "                                             seed = SEED)\n",
        "\n",
        "ds_val = val_datagen.flow_from_dataframe(val_df,\n",
        "                                            #directory=train_path,\n",
        "                                            x_col = 'image',\n",
        "                                            y_col = 'class',\n",
        "                                            color_mode = \"rgb\",\n",
        "                                            target_size = img_size,\n",
        "                                            class_mode = 'binary',\n",
        "                                            batch_size = BATCH,\n",
        "                                            shuffle = True,\n",
        "                                            seed = SEED)\n",
        "\n",
        "ds_test = val_datagen.flow_from_dataframe(test_df,\n",
        "                                            #directory=test_path,\n",
        "                                            x_col = 'image',\n",
        "                                            y_col = 'class',\n",
        "                                            color_mode =\"rgb\",\n",
        "                                            target_size = img_size,\n",
        "                                            class_mode = 'binary',\n",
        "                                            batch_size = 1,\n",
        "                                            shuffle = False)\n"
      ],
      "metadata": {
        "id": "60BwT83krW4Z"
      },
      "execution_count": null,
      "outputs": []
    },
    {
      "cell_type": "markdown",
      "source": [
        "# <a id=\"1\">Fine tuning</a>"
      ],
      "metadata": {
        "id": "sTHv6t44tbAA"
      }
    },
    {
      "cell_type": "code",
      "source": [
        " def get_pretrained(base_model):\n",
        "    inputs = layers.Input(shape=(IMG_SIZE, IMG_SIZE, 3))\n",
        "\n",
        "    x = base_model(inputs)\n",
        "\n",
        "    x = layers.BatchNormalization()(x)\n",
        "    x = layers.GlobalAveragePooling2D()(x)\n",
        "    x = layers.Dense(128, activation='relu')(x)\n",
        "    x = layers.Dropout(0.1)(x)\n",
        "\n",
        "    output = layers.Dense(1, activation='sigmoid')(x)\n",
        "\n",
        "    model = keras.Model(inputs=[inputs], outputs=output)\n",
        "\n",
        "    return model"
      ],
      "metadata": {
        "id": "vfqzPss5uut6"
      },
      "execution_count": null,
      "outputs": []
    },
    {
      "cell_type": "code",
      "source": [
        "def fine_tuning(model_arch):\n",
        "    base_model = model_arch(\n",
        "    weights='imagenet',\n",
        "    input_shape=(IMG_SIZE, IMG_SIZE, 3),\n",
        "    include_top=False)\n",
        "\n",
        "    base_model.trainable = True\n",
        "\n",
        "    for layer in base_model.layers[:-13]:\n",
        "        layer.trainable = False\n",
        "\n",
        "    model_pretrained = get_pretrained()\n",
        "    model_pretrained.compile(loss='binary_crossentropy'\n",
        "                  , optimizer = keras.optimizers.Adam(learning_rate=3e-5), metrics='binary_accuracy')\n",
        "    model_pretrained.summary()\n",
        "\n",
        "    history = model_pretrained.fit(ds_train,\n",
        "          batch_size = BATCH, epochs = 10,\n",
        "          validation_data=ds_val);\n",
        "\n",
        "    ds_test.reset()\n",
        "    predictions = model_pretrained.predict(ds_test, steps=len(ds_test), verbose=0)\n",
        "    pred_labels= np.where(predictions>0.5, 1, 0)\n",
        "    print(metrics.classification_report(Y_test, pred_labels, labels = [0, 1]))\n",
        "\n",
        "    confusion_matrix = metrics.confusion_matrix(Y_test, pred_labels)\n",
        "    sns.heatmap(confusion_matrix, annot=True, fmt=\"d\")\n",
        "    plt.xlabel(\"Predicted Label\", fontsize= 12)\n",
        "    plt.ylabel(\"True Label\", fontsize= 12)\n",
        "    plt.show()\n",
        "\n",
        "    roc_auc = metrics.roc_auc_score(Y_test, predictions)\n",
        "    print('ROC_AUC: ', roc_auc)\n",
        "    fpr, tpr, thresholds = metrics.roc_curve(Y_test, predictions)\n",
        "    plt.plot(fpr, tpr, label = 'ROC_AUC = %0.3f' % roc_auc)\n",
        "    plt.xlabel(\"False Positive Rate\", fontsize= 12)\n",
        "    plt.ylabel(\"True Positive Rate\", fontsize= 12)\n",
        "    plt.legend(loc=\"lower right\")\n",
        "    plt.show()\n",
        "\n",
        "    fig, ax = plt.subplots(figsize=(20,8))\n",
        "    sns.lineplot(x = history.epoch, y = history.history['binary_accuracy'])\n",
        "    sns.lineplot(x = history.epoch, y = history.history['val_binary_accuracy'])\n",
        "    ax.set_title('Learning Curve (Accuracy)')\n",
        "    ax.set_ylabel('Accuracy')\n",
        "    ax.set_xlabel('Epoch')\n",
        "    ax.legend(['train', 'val'], loc='best')\n",
        "    plt.show()\n",
        "\n",
        "    score = model_pretrained.evaluate(ds_test, steps = len(test_df), verbos= 0)\n",
        "    print('Test loss:', score[0])\n",
        "    print('Test accuracy:', score[1])\n",
        "\n",
        "    fig, ax = plt.subplots(figsize=(20,8))\n",
        "    sns.lineplot(x = history.epoch, y = history.history['loss'])\n",
        "    sns.lineplot(x = history.epoch, y = history.history['val_loss'])\n",
        "    ax.set_title('Learning Curve (Loss)')\n",
        "    ax.set_ylabel('Loss')\n",
        "    ax.set_xlabel('Epoch')\n",
        "    ax.legend(['train', 'val'], loc='best')\n",
        "    plt.show()\n",
        "\n",
        "    model_pretrained.save(f'/{base_model._name}_{score[1]}acc.h5')"
      ],
      "metadata": {
        "id": "m8uwSCY9tdYH"
      },
      "execution_count": null,
      "outputs": []
    },
    {
      "cell_type": "code",
      "source": [
        "for arch in [keras.applications.VGG16, keras.applications.VGG19, keras.applications.ResNet50V2]:\n",
        "    keras.backend.clear_session()\n",
        "    fine_tuning(arch)"
      ],
      "metadata": {
        "id": "27F3OInBvJ7w"
      },
      "execution_count": null,
      "outputs": []
    },
    {
      "cell_type": "markdown",
      "source": [
        "# <a id=\"1\">K-Fold кросс-валидация</a>"
      ],
      "metadata": {
        "id": "UJaQH2w-vmZn"
      }
    },
    {
      "cell_type": "code",
      "source": [
        "# Установка колбэков\n",
        "\n",
        "early_stopping = callbacks.EarlyStopping(\n",
        "    monitor='val_loss',\n",
        "    patience=5,\n",
        "    restore_best_weights=True,\n",
        ")\n",
        "\n",
        "plateau = callbacks.ReduceLROnPlateau(\n",
        "    monitor='val_loss',\n",
        "    factor = 0.2,\n",
        "    patience = 3,\n",
        "    min_delt = 1e-7,\n",
        "    cooldown = 0,\n",
        "    verbose = 1\n",
        ")"
      ],
      "metadata": {
        "id": "A1eUyXPgwIVQ"
      },
      "execution_count": null,
      "outputs": []
    },
    {
      "cell_type": "code",
      "source": [
        "from sklearn.model_selection import KFold\n",
        "tprs = []\n",
        "base_fpr = np.linspace(0, 1, 101)\n",
        "\n",
        "plt.figure(figsize=(5, 5))\n",
        "plt.axes().set_aspect('equal', 'datalim')\n",
        "\n",
        "kf = KFold(n_splits = 10, shuffle=True, random_state=42)\n",
        "\n",
        "for k, (train_index, test_index) in enumerate(kf.split(train_df)):\n",
        "  train_data_frame = train_df.loc[train_index]\n",
        "  test_data_frame = train_df.loc[test_index]\n",
        "\n",
        "  ds_train = train_datagen.flow_from_dataframe(train_data_frame,\n",
        "                                             x_col = 'image',\n",
        "                                             y_col = 'class',\n",
        "                                             color_mode =\"rgb\",\n",
        "                                             target_size = img_size,\n",
        "                                             class_mode = \"binary\",\n",
        "                                             batch_size = BATCH,\n",
        "                                             shuffle = True,\n",
        "                                             seed = 42)\n",
        "\n",
        "  ds_val = val_datagen.flow_from_dataframe(test_data_frame,\n",
        "                                            #directory=train_path,\n",
        "                                            x_col = 'image',\n",
        "                                            y_col = 'class',\n",
        "                                            color_mode = \"rgb\",\n",
        "                                            target_size = img_size,\n",
        "                                            class_mode = 'binary',\n",
        "                                            batch_size = BATCH,\n",
        "                                            shuffle = True,\n",
        "                                            seed = 42)\n",
        "  keras.backend.clear_session()\n",
        "  model = get_pretrained(keras.applications.VGG16)\n",
        "  model.compile(loss='binary_crossentropy', optimizer =keras.optimizers.Adam(learning_rate=3e-5), metrics='binary_accuracy')\n",
        "  history = model.fit(ds_train,\n",
        "          batch_size = BATCH, epochs = 50,\n",
        "          validation_data=ds_val,\n",
        "          callbacks=[early_stopping, plateau],\n",
        "          steps_per_epoch=(len(train_data_frame)/BATCH),\n",
        "          validation_steps=(len(test_data_frame)/BATCH));\n",
        "\n",
        "  ds_test.reset()\n",
        "  predictions = model.predict(ds_test, steps=len(ds_test), verbose=0)\n",
        "  fpr, tpr, _ = roc_curve(Y_test, predictions)\n",
        "  plt.plot(fpr, tpr, 'b', alpha=0.15)\n",
        "  tpr = np.interp(base_fpr, fpr, tpr)\n",
        "  tpr[0] = 0.0\n",
        "  tprs.append(tpr)\n",
        "\n",
        "tprs = np.array(tprs)\n",
        "mean_tprs = tprs.mean(axis=0)\n",
        "\n",
        "sd = tprs.std(axis=0)\n",
        "se = sd / np.sqrt(101)\n",
        "tprs_upper = np.minimum(mean_tprs + 1.96 * se, 1)\n",
        "tprs_lower = mean_tprs - 1.96 * se\n",
        "mean_auc = np.array(roc_aucs).mean()\n",
        "\n",
        "plt.plot(base_fpr, mean_tprs, 'b')\n",
        "plt.fill_between(base_fpr, tprs_lower, tprs_upper, color='grey', alpha=0.3)\n",
        "\n",
        "plt.plot([0, 1], [0, 1],'r--')\n",
        "plt.xlim([-0.01, 1.01])\n",
        "plt.ylim([-0.01, 1.01])\n",
        "plt.ylabel('True Positive Rate')\n",
        "plt.xlabel('False Positive Rate')\n",
        "plt.show()\n",
        "print(mean_auc)"
      ],
      "metadata": {
        "id": "xYAhU8fGvrnq"
      },
      "execution_count": null,
      "outputs": []
    },
    {
      "cell_type": "markdown",
      "source": [
        "# <a id=\"1\"></a>"
      ],
      "metadata": {
        "id": "Tzq6ZJFUvacJ"
      }
    }
  ]
}